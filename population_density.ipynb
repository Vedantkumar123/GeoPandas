{
 "cells": [
  {
   "cell_type": "markdown",
   "metadata": {},
   "source": []
  },
  {
   "cell_type": "code",
   "execution_count": 1,
   "metadata": {},
   "outputs": [],
   "source": [
    "import pandas as pd\n",
    "import matplotlib.pyplot as plt\n",
    "import geopandas as gpd"
   ]
  },
  {
   "cell_type": "code",
   "execution_count": 2,
   "metadata": {},
   "outputs": [],
   "source": [
    "data=pd.read_html('https://www.citypopulation.de/en/nepal/mun/admin/')"
   ]
  },
  {
   "cell_type": "code",
   "execution_count": 3,
   "metadata": {},
   "outputs": [
    {
     "data": {
      "text/plain": [
       "7"
      ]
     },
     "execution_count": 3,
     "metadata": {},
     "output_type": "execute_result"
    }
   ],
   "source": [
    "len(data)"
   ]
  },
  {
   "cell_type": "code",
   "execution_count": 14,
   "metadata": {},
   "outputs": [
    {
     "name": "stdout",
     "output_type": "stream",
     "text": [
      "                   Name              Status         Transcription  \\\n",
      "0                Achham            District                Achāma   \n",
      "1    Bannigadhi Jaygadh  Rural Municipality  Bānnigaḍhī Jayagaḍha   \n",
      "2             Chaurpati  Rural Municipality             Caurapāṭī   \n",
      "3               Dhakari  Rural Municipality               Ḍhakārī   \n",
      "4            Kamalbazar        Municipality          Kamalabajāra   \n",
      "..                  ...                 ...                   ...   \n",
      "846         Chaurjahari        Municipality           Caurajahārī   \n",
      "847             Musikot        Municipality              Musikōṭa   \n",
      "848          Sani Bheri  Rural Municipality            Sānī Bhērī   \n",
      "849             Triveni  Rural Municipality               Trivēṇī   \n",
      "850               Nepal    Federal Republic                Nēpāla   \n",
      "\n",
      "                        Native PopulationCensus2001-05-28  \\\n",
      "0                  अछाम जिल्ला                     231285   \n",
      "1    बान्निगढी जयगढ गाउँपालिका                      17102   \n",
      "2           चौरपाटी गाउँपालिका                      23323   \n",
      "3             ढकारी गाउँपालिका                        ...   \n",
      "4            कमलबजार नगरपालिका                        ...   \n",
      "..                         ...                        ...   \n",
      "846         चौरजहारी नगरपालिका                        ...   \n",
      "847          मुसिकोट नगरपालिका                        ...   \n",
      "848       सानी भेरी गाउँपालिका                        ...   \n",
      "849        त्रिवेणी गाउँपालिका                        ...   \n",
      "850                      नेपाल                   23151423   \n",
      "\n",
      "     PopulationCensus2011-06-22  PopulationCensus2021-11-25 Unnamed: 7  \n",
      "0                        257477                      228852          →  \n",
      "1                         17426                       13519          →  \n",
      "2                         25215                       21681          →  \n",
      "3                         21570                       21998          →  \n",
      "4                         23770                       21032          →  \n",
      "..                          ...                         ...        ...  \n",
      "846                       27583                       28956          →  \n",
      "847                       33882                       34270          →  \n",
      "848                       22194                       24759          →  \n",
      "849                       19404                       20525          →  \n",
      "850                    26494504                    29164578        NaN  \n",
      "\n",
      "[851 rows x 8 columns]\n"
     ]
    }
   ],
   "source": [
    "print(data[0])"
   ]
  },
  {
   "cell_type": "code",
   "execution_count": 16,
   "metadata": {},
   "outputs": [
    {
     "name": "stdout",
     "output_type": "stream",
     "text": [
      "                   Name              Status         Transcription  \\\n",
      "0                Achham            District                Achāma   \n",
      "1    Bannigadhi Jaygadh  Rural Municipality  Bānnigaḍhī Jayagaḍha   \n",
      "2             Chaurpati  Rural Municipality             Caurapāṭī   \n",
      "3               Dhakari  Rural Municipality               Ḍhakārī   \n",
      "4            Kamalbazar        Municipality          Kamalabajāra   \n",
      "..                  ...                 ...                   ...   \n",
      "846         Chaurjahari        Municipality           Caurajahārī   \n",
      "847             Musikot        Municipality              Musikōṭa   \n",
      "848          Sani Bheri  Rural Municipality            Sānī Bhērī   \n",
      "849             Triveni  Rural Municipality               Trivēṇī   \n",
      "850               Nepal    Federal Republic                Nēpāla   \n",
      "\n",
      "                        Native PopulationCensus2001-05-28  \\\n",
      "0                  अछाम जिल्ला                     231285   \n",
      "1    बान्निगढी जयगढ गाउँपालिका                      17102   \n",
      "2           चौरपाटी गाउँपालिका                      23323   \n",
      "3             ढकारी गाउँपालिका                        ...   \n",
      "4            कमलबजार नगरपालिका                        ...   \n",
      "..                         ...                        ...   \n",
      "846         चौरजहारी नगरपालिका                        ...   \n",
      "847          मुसिकोट नगरपालिका                        ...   \n",
      "848       सानी भेरी गाउँपालिका                        ...   \n",
      "849        त्रिवेणी गाउँपालिका                        ...   \n",
      "850                      नेपाल                   23151423   \n",
      "\n",
      "     PopulationCensus2011-06-22  PopulationCensus2021-11-25 Unnamed: 7  \n",
      "0                        257477                      228852          →  \n",
      "1                         17426                       13519          →  \n",
      "2                         25215                       21681          →  \n",
      "3                         21570                       21998          →  \n",
      "4                         23770                       21032          →  \n",
      "..                          ...                         ...        ...  \n",
      "846                       27583                       28956          →  \n",
      "847                       33882                       34270          →  \n",
      "848                       22194                       24759          →  \n",
      "849                       19404                       20525          →  \n",
      "850                    26494504                    29164578        NaN  \n",
      "\n",
      "[851 rows x 8 columns]\n",
      "  Gender (C 2021)  Gender (C 2021).1\n",
      "0           Males           14253551\n",
      "1         Females           14911027\n",
      "  Age Groups (C 2021)  Age Groups (C 2021).1\n",
      "0          0-14 years                8115575\n",
      "1         15-64 years               19027289\n",
      "2           65+ years                2021714\n",
      "  Age Distribution (C 2021)  Age Distribution (C 2021).1\n",
      "0                 90+ years                        47640\n",
      "1               80-89 years                       239883\n",
      "2               70-79 years                       962573\n",
      "3               60-69 years                      1727222\n",
      "4               50-59 years                      2489796\n",
      "5               40-49 years                      3183872\n",
      "6               30-39 years                      4189204\n",
      "7               20-29 years                      5242409\n",
      "8               10-19 years                      5876269\n",
      "9                 0-9 years                      5205710\n",
      "  Citizenhip (C 2021)  Citizenhip (C 2021).1\n",
      "0               Nepal               29027171\n",
      "1               India                 132781\n",
      "2       Other country                   4437\n",
      "             Place of Birth (C 2021)  Place of Birth (C 2021).1\n",
      "0                    Same local unit                   20117395\n",
      "1  Other local unit in same district                    2612713\n",
      "2                     Other district                    5690225\n",
      "3                      Other country                     734663\n",
      "  Literacy (A5+) (C 2021)  Literacy (A5+) (C 2021).1\n",
      "0                     Yes                   20377980\n",
      "1            Only reading                     114331\n",
      "2                      No                    6223061\n"
     ]
    }
   ],
   "source": [
    "for population_data in data:\n",
    "    print(population_data)"
   ]
  },
  {
   "cell_type": "code",
   "execution_count": 17,
   "metadata": {},
   "outputs": [
    {
     "name": "stdout",
     "output_type": "stream",
     "text": [
      "  Literacy (A5+) (C 2021)  Literacy (A5+) (C 2021).1\n",
      "0                     Yes                   20377980\n",
      "1            Only reading                     114331\n",
      "2                      No                    6223061\n"
     ]
    }
   ],
   "source": [
    "print(population_data)"
   ]
  },
  {
   "cell_type": "code",
   "execution_count": null,
   "metadata": {},
   "outputs": [],
   "source": []
  }
 ],
 "metadata": {
  "kernelspec": {
   "display_name": "Python 3",
   "language": "python",
   "name": "python3"
  },
  "language_info": {
   "codemirror_mode": {
    "name": "ipython",
    "version": 3
   },
   "file_extension": ".py",
   "mimetype": "text/x-python",
   "name": "python",
   "nbconvert_exporter": "python",
   "pygments_lexer": "ipython3",
   "version": "3.11.3"
  }
 },
 "nbformat": 4,
 "nbformat_minor": 2
}
